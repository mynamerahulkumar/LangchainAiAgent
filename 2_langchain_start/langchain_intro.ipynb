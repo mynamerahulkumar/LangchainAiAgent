{
 "cells": [
  {
   "cell_type": "code",
   "execution_count": 1,
   "metadata": {},
   "outputs": [
    {
     "data": {
      "text/plain": [
       "True"
      ]
     },
     "execution_count": 1,
     "metadata": {},
     "output_type": "execute_result"
    }
   ],
   "source": [
    "\n",
    "import os\n",
    "from dotenv import load_dotenv\n",
    "load_dotenv()"
   ]
  },
  {
   "cell_type": "code",
   "execution_count": null,
   "metadata": {},
   "outputs": [],
   "source": []
  },
  {
   "cell_type": "code",
   "execution_count": 2,
   "metadata": {},
   "outputs": [],
   "source": [
    "os.environ[\"OPENAI_API_KEY\"]=os.getenv(\"OPENAI_API_KEY\")\n",
    "\n",
    "## Langsmith Tracking and tracing\n",
    "\n",
    "os.environ[\"LANGCHAIN_API_KEY\"]=os.getenv(\"LANGCHAIN_API_KEY\")\n",
    "os.environ[\"LANGCHAIN_TRACING_V2\"]=\"true\"\n",
    "os.environ[\"LANGCHAIN_PROJECT\"]=os.getenv(\"LANGCHAIN_PROJECT\")\n",
    "     "
   ]
  },
  {
   "cell_type": "code",
   "execution_count": 3,
   "metadata": {},
   "outputs": [
    {
     "name": "stdout",
     "output_type": "stream",
     "text": [
      "client=<openai.resources.chat.completions.completions.Completions object at 0x125ae19d0> async_client=<openai.resources.chat.completions.completions.AsyncCompletions object at 0x125ae32f0> root_client=<openai.OpenAI object at 0x1253fcc80> root_async_client=<openai.AsyncOpenAI object at 0x125ae1a00> model_name='o1-mini' temperature=1.0 model_kwargs={} openai_api_key=SecretStr('**********')\n"
     ]
    }
   ],
   "source": [
    "\n",
    "from langchain_openai import ChatOpenAI\n",
    "\n",
    "llm=ChatOpenAI(model=\"o1-mini\")\n",
    "print(llm)"
   ]
  },
  {
   "cell_type": "code",
   "execution_count": 4,
   "metadata": {},
   "outputs": [
    {
     "name": "stdout",
     "output_type": "stream",
     "text": [
      "content='**Agentic AI** refers to artificial intelligence systems that possess agency, enabling them to operate autonomously, make decisions, and take actions toward achieving specific goals without constant human oversight. The concept of agency in AI encompasses the ability to perceive the environment, process information, learn from experiences, and adapt behaviors to navigate complex and dynamic situations effectively.\\n\\n### Key Characteristics of Agentic AI\\n\\n1. **Autonomy**: Agentic AI systems can function independently, making decisions and executing tasks without needing real-time human intervention.\\n\\n2. **Goal-Oriented Behavior**: These systems are designed with specific objectives or goals that guide their actions and decision-making processes.\\n\\n3. **Perception and Understanding**: Agentic AI can interpret and respond to various inputs from their environment through sensors, data analysis, or other means of perception.\\n\\n4. **Learning and Adaptation**: They incorporate machine learning and adaptive algorithms, allowing them to improve performance over time based on experiences and changing conditions.\\n\\n5. **Decision-Making Capability**: Agentic AI evaluates options and selects actions that are most likely to achieve their predefined goals, often using complex reasoning processes.\\n\\n### Examples and Applications\\n\\n- **Autonomous Vehicles**: Self-driving cars embody agentic AI by navigating roads, making real-time decisions based on traffic conditions, and reaching destinations without human control.\\n\\n- **Robotics**: Service robots in industries like manufacturing, healthcare, or logistics operate autonomously to perform tasks such as assembly, surgery, or package delivery.\\n\\n- **Virtual Assistants**: Advanced AI assistants like Siri, Alexa, or Google Assistant manage schedules, respond to queries, and perform tasks autonomously based on user preferences and context.\\n\\n- **Smart Grids**: In energy management, agentic AI systems optimize the distribution and consumption of electricity by autonomously balancing supply and demand.\\n\\n### Benefits of Agentic AI\\n\\n1. **Efficiency and Productivity**: By automating tasks, agentic AI can significantly enhance efficiency and productivity across various sectors.\\n\\n2. **Complex Problem Solving**: These AI systems can handle intricate and dynamic problems that are challenging for traditional, rule-based systems.\\n\\n3. **Scalability**: Agentic AI can manage large-scale operations and adapt to increasing demands without proportional increases in human resources.\\n\\n4. **24/7 Operation**: Unlike humans, agentic AI systems can operate continuously without fatigue, ensuring consistent performance.\\n\\n### Challenges and Considerations\\n\\n1. **Ethical Concerns**: The autonomy of agentic AI raises questions about decision-making ethics, accountability, and potential biases embedded in algorithms.\\n\\n2. **Safety and Control**: Ensuring that agentic AI systems act safely and predictably, especially in high-stakes environments like healthcare or transportation, is paramount.\\n\\n3. **Job Displacement**: Automation through agentic AI may lead to the displacement of certain job roles, necessitating strategies for workforce transition and upskilling.\\n\\n4. **Regulation and Governance**: Developing appropriate regulations and governance frameworks to oversee the deployment and operation of agentic AI is essential to mitigate risks.\\n\\n5. **Transparency and Explainability**: Ensuring that decisions made by agentic AI systems are understandable and transparent to humans is crucial for trust and accountability.\\n\\n### Current State and Future Outlook\\n\\nAgentic AI is increasingly being integrated into various industries, driven by advancements in machine learning, robotics, and sensor technologies. While significant progress has been made, fully autonomous systems that can handle the vast complexity of real-world environments are still under development. Future trends may include:\\n\\n- **Enhanced Collaboration**: Combining human intelligence with agentic AI to create synergistic workflows where AI handles routine or data-intensive tasks, allowing humans to focus on creative and strategic activities.\\n\\n- **Improved Adaptability**: Developing AI systems that can better adapt to unforeseen circumstances and learn from minimal data, enhancing their robustness in diverse scenarios.\\n\\n- **Ethical AI Development**: Greater emphasis on incorporating ethical considerations into the design and deployment of agentic AI to ensure alignment with societal values and norms.\\n\\n### Conclusion\\n\\nAgentic AI represents a significant advancement in artificial intelligence, embodying systems that can act with a degree of autonomy and purpose. While offering numerous benefits in terms of efficiency, problem-solving, and scalability, agentic AI also poses challenges related to ethics, safety, and societal impact. Ongoing research, thoughtful regulation, and collaborative efforts between technologists, policymakers, and society at large are essential to harness the potential of agentic AI responsibly and effectively.' additional_kwargs={'refusal': None} response_metadata={'token_usage': {'completion_tokens': 1685, 'prompt_tokens': 13, 'total_tokens': 1698, 'completion_tokens_details': {'accepted_prediction_tokens': 0, 'audio_tokens': 0, 'reasoning_tokens': 768, 'rejected_prediction_tokens': 0}, 'prompt_tokens_details': {'audio_tokens': 0, 'cached_tokens': 0}}, 'model_name': 'o1-mini-2024-09-12', 'system_fingerprint': 'fp_5c373483f1', 'finish_reason': 'stop', 'logprobs': None} id='run-a41ce54c-e2c8-4cfe-9e85-15f05cabc8cd-0' usage_metadata={'input_tokens': 13, 'output_tokens': 1685, 'total_tokens': 1698, 'input_token_details': {'audio': 0, 'cache_read': 0}, 'output_token_details': {'audio': 0, 'reasoning': 768}}\n"
     ]
    }
   ],
   "source": [
    "result=llm.invoke(\"What is agentic AI\")\n",
    "print(result)"
   ]
  },
  {
   "cell_type": "code",
   "execution_count": null,
   "metadata": {},
   "outputs": [],
   "source": []
  },
  {
   "cell_type": "code",
   "execution_count": null,
   "metadata": {},
   "outputs": [],
   "source": []
  },
  {
   "cell_type": "code",
   "execution_count": null,
   "metadata": {},
   "outputs": [],
   "source": []
  },
  {
   "cell_type": "code",
   "execution_count": null,
   "metadata": {},
   "outputs": [],
   "source": []
  },
  {
   "cell_type": "code",
   "execution_count": null,
   "metadata": {},
   "outputs": [],
   "source": []
  },
  {
   "cell_type": "code",
   "execution_count": null,
   "metadata": {},
   "outputs": [],
   "source": []
  },
  {
   "cell_type": "code",
   "execution_count": null,
   "metadata": {},
   "outputs": [],
   "source": []
  },
  {
   "cell_type": "code",
   "execution_count": null,
   "metadata": {},
   "outputs": [],
   "source": []
  }
 ],
 "metadata": {
  "kernelspec": {
   "display_name": "base",
   "language": "python",
   "name": "python3"
  },
  "language_info": {
   "codemirror_mode": {
    "name": "ipython",
    "version": 3
   },
   "file_extension": ".py",
   "mimetype": "text/x-python",
   "name": "python",
   "nbconvert_exporter": "python",
   "pygments_lexer": "ipython3",
   "version": "3.12.7"
  }
 },
 "nbformat": 4,
 "nbformat_minor": 2
}
